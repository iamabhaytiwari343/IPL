{
 "cells": [
  {
   "cell_type": "code",
   "execution_count": 2,
   "metadata": {},
   "outputs": [],
   "source": [
    "import numpy as np\n",
    "import pandas as pd\n",
    "import matplotlib.pyplot as plt\n",
    "import seaborn as sns\n"
   ]
  },
  {
   "cell_type": "code",
   "execution_count": 3,
   "metadata": {},
   "outputs": [],
   "source": [
    "#importing the ball by ball dataset into the workspace\n",
    "df=pd.read_csv(\"ball_by_ball_dataset.csv\")\n"
   ]
  },
  {
   "cell_type": "code",
   "execution_count": 4,
   "metadata": {},
   "outputs": [
    {
     "name": "stdout",
     "output_type": "stream",
     "text": [
      "<class 'pandas.core.frame.DataFrame'>\n",
      "RangeIndex: 225954 entries, 0 to 225953\n",
      "Data columns (total 17 columns):\n",
      " #   Column             Non-Null Count   Dtype \n",
      "---  ------             --------------   ----- \n",
      " 0   ID                 225954 non-null  int64 \n",
      " 1   innings            225954 non-null  int64 \n",
      " 2   overs              225954 non-null  int64 \n",
      " 3   ballnumber         225954 non-null  int64 \n",
      " 4   batter             225954 non-null  object\n",
      " 5   bowler             225954 non-null  object\n",
      " 6   non-striker        225954 non-null  object\n",
      " 7   extra_type         12049 non-null   object\n",
      " 8   batsman_run        225954 non-null  int64 \n",
      " 9   extras_run         225954 non-null  int64 \n",
      " 10  total_run          225954 non-null  int64 \n",
      " 11  non_boundary       225954 non-null  int64 \n",
      " 12  isWicketDelivery   225954 non-null  int64 \n",
      " 13  player_out         11151 non-null   object\n",
      " 14  kind               11151 non-null   object\n",
      " 15  fielders_involved  7988 non-null    object\n",
      " 16  BattingTeam        225954 non-null  object\n",
      "dtypes: int64(9), object(8)\n",
      "memory usage: 29.3+ MB\n"
     ]
    }
   ],
   "source": [
    "#information about database\n",
    "df.info()"
   ]
  },
  {
   "cell_type": "code",
   "execution_count": 8,
   "metadata": {},
   "outputs": [
    {
     "data": {
      "text/html": [
       "<div>\n",
       "<style scoped>\n",
       "    .dataframe tbody tr th:only-of-type {\n",
       "        vertical-align: middle;\n",
       "    }\n",
       "\n",
       "    .dataframe tbody tr th {\n",
       "        vertical-align: top;\n",
       "    }\n",
       "\n",
       "    .dataframe thead th {\n",
       "        text-align: right;\n",
       "    }\n",
       "</style>\n",
       "<table border=\"1\" class=\"dataframe\">\n",
       "  <thead>\n",
       "    <tr style=\"text-align: right;\">\n",
       "      <th></th>\n",
       "      <th>ID</th>\n",
       "      <th>innings</th>\n",
       "      <th>overs</th>\n",
       "      <th>ballnumber</th>\n",
       "      <th>batsman_run</th>\n",
       "      <th>extras_run</th>\n",
       "      <th>total_run</th>\n",
       "      <th>non_boundary</th>\n",
       "      <th>isWicketDelivery</th>\n",
       "    </tr>\n",
       "  </thead>\n",
       "  <tbody>\n",
       "    <tr>\n",
       "      <th>count</th>\n",
       "      <td>2.259540e+05</td>\n",
       "      <td>225954.000000</td>\n",
       "      <td>225954.000000</td>\n",
       "      <td>225954.000000</td>\n",
       "      <td>225954.000000</td>\n",
       "      <td>225954.000000</td>\n",
       "      <td>225954.00000</td>\n",
       "      <td>225954.000000</td>\n",
       "      <td>225954.000000</td>\n",
       "    </tr>\n",
       "    <tr>\n",
       "      <th>mean</th>\n",
       "      <td>8.320470e+05</td>\n",
       "      <td>1.483868</td>\n",
       "      <td>9.185679</td>\n",
       "      <td>3.619750</td>\n",
       "      <td>1.243523</td>\n",
       "      <td>0.066907</td>\n",
       "      <td>1.31043</td>\n",
       "      <td>0.000093</td>\n",
       "      <td>0.049351</td>\n",
       "    </tr>\n",
       "    <tr>\n",
       "      <th>std</th>\n",
       "      <td>3.379542e+05</td>\n",
       "      <td>0.503104</td>\n",
       "      <td>5.681797</td>\n",
       "      <td>1.810633</td>\n",
       "      <td>1.618166</td>\n",
       "      <td>0.341470</td>\n",
       "      <td>1.60605</td>\n",
       "      <td>0.009640</td>\n",
       "      <td>0.216600</td>\n",
       "    </tr>\n",
       "    <tr>\n",
       "      <th>min</th>\n",
       "      <td>3.359820e+05</td>\n",
       "      <td>1.000000</td>\n",
       "      <td>0.000000</td>\n",
       "      <td>1.000000</td>\n",
       "      <td>0.000000</td>\n",
       "      <td>0.000000</td>\n",
       "      <td>0.00000</td>\n",
       "      <td>0.000000</td>\n",
       "      <td>0.000000</td>\n",
       "    </tr>\n",
       "    <tr>\n",
       "      <th>25%</th>\n",
       "      <td>5.012620e+05</td>\n",
       "      <td>1.000000</td>\n",
       "      <td>4.000000</td>\n",
       "      <td>2.000000</td>\n",
       "      <td>0.000000</td>\n",
       "      <td>0.000000</td>\n",
       "      <td>0.00000</td>\n",
       "      <td>0.000000</td>\n",
       "      <td>0.000000</td>\n",
       "    </tr>\n",
       "    <tr>\n",
       "      <th>50%</th>\n",
       "      <td>8.297370e+05</td>\n",
       "      <td>1.000000</td>\n",
       "      <td>9.000000</td>\n",
       "      <td>4.000000</td>\n",
       "      <td>1.000000</td>\n",
       "      <td>0.000000</td>\n",
       "      <td>1.00000</td>\n",
       "      <td>0.000000</td>\n",
       "      <td>0.000000</td>\n",
       "    </tr>\n",
       "    <tr>\n",
       "      <th>75%</th>\n",
       "      <td>1.178395e+06</td>\n",
       "      <td>2.000000</td>\n",
       "      <td>14.000000</td>\n",
       "      <td>5.000000</td>\n",
       "      <td>1.000000</td>\n",
       "      <td>0.000000</td>\n",
       "      <td>1.00000</td>\n",
       "      <td>0.000000</td>\n",
       "      <td>0.000000</td>\n",
       "    </tr>\n",
       "    <tr>\n",
       "      <th>max</th>\n",
       "      <td>1.312200e+06</td>\n",
       "      <td>6.000000</td>\n",
       "      <td>19.000000</td>\n",
       "      <td>10.000000</td>\n",
       "      <td>6.000000</td>\n",
       "      <td>7.000000</td>\n",
       "      <td>7.00000</td>\n",
       "      <td>1.000000</td>\n",
       "      <td>1.000000</td>\n",
       "    </tr>\n",
       "  </tbody>\n",
       "</table>\n",
       "</div>"
      ],
      "text/plain": [
       "                 ID        innings          overs     ballnumber  \\\n",
       "count  2.259540e+05  225954.000000  225954.000000  225954.000000   \n",
       "mean   8.320470e+05       1.483868       9.185679       3.619750   \n",
       "std    3.379542e+05       0.503104       5.681797       1.810633   \n",
       "min    3.359820e+05       1.000000       0.000000       1.000000   \n",
       "25%    5.012620e+05       1.000000       4.000000       2.000000   \n",
       "50%    8.297370e+05       1.000000       9.000000       4.000000   \n",
       "75%    1.178395e+06       2.000000      14.000000       5.000000   \n",
       "max    1.312200e+06       6.000000      19.000000      10.000000   \n",
       "\n",
       "         batsman_run     extras_run     total_run   non_boundary  \\\n",
       "count  225954.000000  225954.000000  225954.00000  225954.000000   \n",
       "mean        1.243523       0.066907       1.31043       0.000093   \n",
       "std         1.618166       0.341470       1.60605       0.009640   \n",
       "min         0.000000       0.000000       0.00000       0.000000   \n",
       "25%         0.000000       0.000000       0.00000       0.000000   \n",
       "50%         1.000000       0.000000       1.00000       0.000000   \n",
       "75%         1.000000       0.000000       1.00000       0.000000   \n",
       "max         6.000000       7.000000       7.00000       1.000000   \n",
       "\n",
       "       isWicketDelivery  \n",
       "count     225954.000000  \n",
       "mean           0.049351  \n",
       "std            0.216600  \n",
       "min            0.000000  \n",
       "25%            0.000000  \n",
       "50%            0.000000  \n",
       "75%            0.000000  \n",
       "max            1.000000  "
      ]
     },
     "execution_count": 8,
     "metadata": {},
     "output_type": "execute_result"
    }
   ],
   "source": [
    "df.describe()"
   ]
  },
  {
   "cell_type": "code",
   "execution_count": 9,
   "metadata": {},
   "outputs": [
    {
     "data": {
      "text/plain": [
       "ID                    int64\n",
       "innings               int64\n",
       "overs                 int64\n",
       "ballnumber            int64\n",
       "batter               object\n",
       "bowler               object\n",
       "non-striker          object\n",
       "extra_type           object\n",
       "batsman_run           int64\n",
       "extras_run            int64\n",
       "total_run             int64\n",
       "non_boundary          int64\n",
       "isWicketDelivery      int64\n",
       "player_out           object\n",
       "kind                 object\n",
       "fielders_involved    object\n",
       "BattingTeam          object\n",
       "dtype: object"
      ]
     },
     "execution_count": 9,
     "metadata": {},
     "output_type": "execute_result"
    }
   ],
   "source": [
    "df.dtypes"
   ]
  },
  {
   "cell_type": "code",
   "execution_count": 10,
   "metadata": {},
   "outputs": [],
   "source": [
    "#extracting data of last 5 overs in a match\n",
    "c=np.array([15,16,17,18,19]);\n",
    "last_over =df[df['overs'].isin(c)]"
   ]
  },
  {
   "cell_type": "code",
   "execution_count": 12,
   "metadata": {},
   "outputs": [
    {
     "data": {
      "text/plain": [
       "15    11093\n",
       "16    10961\n",
       "17    10650\n",
       "18    10001\n",
       "19     8606\n",
       "Name: overs, dtype: int64"
      ]
     },
     "execution_count": 12,
     "metadata": {},
     "output_type": "execute_result"
    }
   ],
   "source": [
    "last_over['overs'].value_counts()"
   ]
  },
  {
   "cell_type": "code",
   "execution_count": 13,
   "metadata": {},
   "outputs": [
    {
     "data": {
      "text/plain": [
       "ID                        0\n",
       "innings                   0\n",
       "overs                     0\n",
       "ballnumber                0\n",
       "batter                    0\n",
       "bowler                    0\n",
       "non-striker               0\n",
       "extra_type           213905\n",
       "batsman_run               0\n",
       "extras_run                0\n",
       "total_run                 0\n",
       "non_boundary              0\n",
       "isWicketDelivery          0\n",
       "player_out           214803\n",
       "kind                 214803\n",
       "fielders_involved    217966\n",
       "BattingTeam               0\n",
       "dtype: int64"
      ]
     },
     "execution_count": 13,
     "metadata": {},
     "output_type": "execute_result"
    }
   ],
   "source": [
    "df.isnull().sum()"
   ]
  },
  {
   "cell_type": "code",
   "execution_count": 14,
   "metadata": {},
   "outputs": [
    {
     "data": {
      "text/plain": [
       "Index(['ID', 'innings', 'overs', 'ballnumber', 'batter', 'bowler',\n",
       "       'non-striker', 'extra_type', 'batsman_run', 'extras_run', 'total_run',\n",
       "       'non_boundary', 'isWicketDelivery', 'player_out', 'kind',\n",
       "       'fielders_involved', 'BattingTeam'],\n",
       "      dtype='object')"
      ]
     },
     "execution_count": 14,
     "metadata": {},
     "output_type": "execute_result"
    }
   ],
   "source": [
    "df.columns"
   ]
  },
  {
   "cell_type": "code",
   "execution_count": 15,
   "metadata": {},
   "outputs": [
    {
     "data": {
      "text/plain": [
       "(225954, 17)"
      ]
     },
     "execution_count": 15,
     "metadata": {},
     "output_type": "execute_result"
    }
   ],
   "source": [
    "df.shape"
   ]
  }
 ],
 "metadata": {
  "kernelspec": {
   "display_name": "Python 3",
   "language": "python",
   "name": "python3"
  },
  "language_info": {
   "codemirror_mode": {
    "name": "ipython",
    "version": 3
   },
   "file_extension": ".py",
   "mimetype": "text/x-python",
   "name": "python",
   "nbconvert_exporter": "python",
   "pygments_lexer": "ipython3",
   "version": "3.11.2"
  },
  "orig_nbformat": 4
 },
 "nbformat": 4,
 "nbformat_minor": 2
}
